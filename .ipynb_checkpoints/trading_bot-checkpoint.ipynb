{
 "cells": [
  {
   "cell_type": "code",
   "execution_count": 1,
   "metadata": {},
   "outputs": [],
   "source": [
    "from selenium import webdriver"
   ]
  },
  {
   "cell_type": "code",
   "execution_count": 2,
   "metadata": {},
   "outputs": [],
   "source": [
    "import datetime, re, requests, io, time, random, string"
   ]
  },
  {
   "cell_type": "code",
   "execution_count": 3,
   "metadata": {},
   "outputs": [],
   "source": [
    "from bs4 import BeautifulSoup"
   ]
  },
  {
   "cell_type": "code",
   "execution_count": 4,
   "metadata": {},
   "outputs": [],
   "source": [
    "from credentials import email, password"
   ]
  },
  {
   "cell_type": "code",
   "execution_count": 5,
   "metadata": {},
   "outputs": [],
   "source": [
    "driver = webdriver.Chrome('/Users/tannerhleigh/downloads/chromedriver')"
   ]
  },
  {
   "cell_type": "code",
   "execution_count": 6,
   "metadata": {},
   "outputs": [],
   "source": [
    "# Go to wallmine.com\n",
    "driver.get('https://wallmine.com')"
   ]
  },
  {
   "cell_type": "code",
   "execution_count": 7,
   "metadata": {},
   "outputs": [
    {
     "name": "stdout",
     "output_type": "stream",
     "text": [
      "on the right page!\n",
      "Going to sign-in page\n"
     ]
    }
   ],
   "source": [
    "if 'Make Smarter Investments' in driver.page_source:\n",
    "    print('on the right page!')\n",
    "    # Sign-in (copy x-path)\n",
    "    sign_in_link = driver.find_element_by_xpath('/html/body/main/header/div/ul/li[1]/ul/li[3]/a')\n",
    "    sign_in_link.click()\n",
    "    time.sleep(3)\n",
    "    print('Going to sign-in page')"
   ]
  },
  {
   "cell_type": "code",
   "execution_count": 8,
   "metadata": {},
   "outputs": [],
   "source": [
    "if \"Sign in here, please.\" in driver.page_source:\n",
    "    login_email = driver.find_element_by_xpath('//*[@id=\"user_email\"]')\n",
    "    sign_in_password = driver.find_element_by_xpath('//*[@id=\"new_user\"]/div[5]/div[1]/div[2]')\n",
    "    sign_in_password.click()\n",
    "    time.sleep(0.2)"
   ]
  },
  {
   "cell_type": "code",
   "execution_count": 9,
   "metadata": {},
   "outputs": [],
   "source": [
    "login_password = driver.find_element_by_xpath('//*[@id=\"user_password\"]')\n",
    "sign_in_button = driver.find_element_by_xpath('//*[@id=\"new_user\"]/div[5]/div[2]/div[1]/button')"
   ]
  },
  {
   "cell_type": "code",
   "execution_count": 10,
   "metadata": {},
   "outputs": [],
   "source": [
    "login_email.send_keys(email)\n",
    "login_password.send_keys(password)\n",
    "sign_in_button.click()\n",
    "time.sleep(3)"
   ]
  },
  {
   "cell_type": "code",
   "execution_count": 11,
   "metadata": {},
   "outputs": [
    {
     "name": "stdout",
     "output_type": "stream",
     "text": [
      "on the main page!\n"
     ]
    }
   ],
   "source": [
    "if 'Stock market overview' in driver.page_source:\n",
    "    print('on the main page!')\n",
    "    heatmap = driver.find_element_by_xpath('//*[@id=\"homepage-heatmap\"]/a/div[2]')\n",
    "    heatmap.click()\n",
    "    time.sleep(2)"
   ]
  },
  {
   "cell_type": "code",
   "execution_count": 12,
   "metadata": {},
   "outputs": [],
   "source": [
    "overview_tab = driver.find_element_by_xpath('/html/body/main/section/div[5]/div/div/div[1]/div/ul/li[1]/a')\n",
    "overview_tab.click()\n",
    "time.sleep(2)"
   ]
  },
  {
   "cell_type": "code",
   "execution_count": 13,
   "metadata": {},
   "outputs": [
    {
     "name": "stdout",
     "output_type": "stream",
     "text": [
      "on the stock tables!\n"
     ]
    }
   ],
   "source": [
    "if 'Free Stock Screen' in driver.page_source:\n",
    "    print('on the stock tables!')\n",
    "    stock_data = driver.find_element_by_xpath('/html/body/main/section/div[5]/div/div/div[2]').text\n",
    "stock_list = stock_data.split('\\n')"
   ]
  },
  {
   "cell_type": "code",
   "execution_count": 14,
   "metadata": {},
   "outputs": [
    {
     "data": {
      "text/plain": [
       "27"
      ]
     },
     "execution_count": 14,
     "metadata": {},
     "output_type": "execute_result"
    }
   ],
   "source": [
    "# finds the index point of the last table header\n",
    "stock_list.index('Performance today')"
   ]
  },
  {
   "cell_type": "code",
   "execution_count": 15,
   "metadata": {},
   "outputs": [
    {
     "data": {
      "text/plain": [
       "'AAPL Apple, Inc. NASDAQ Consumer Electronics $1.83T $74.542B 33.05 24.95 2.74 52.096M 62.12% 29 Oct 2020 $108.67 +1.45%'"
      ]
     },
     "execution_count": 15,
     "metadata": {},
     "output_type": "execute_result"
    }
   ],
   "source": [
    "# 28 is the index of the first company on the table\n",
    "stock_list[28]\n",
    "# stock_list[28:] to view the whole list"
   ]
  },
  {
   "cell_type": "code",
   "execution_count": 17,
   "metadata": {},
   "outputs": [],
   "source": [
    "company_info_parsed = stock_list[28].split(' $')[0]\n",
    "market_cap = stock_list[28].split(' $')[1]\n",
    "market_info = stock_list[28].split(' $')[2]\n",
    "price_info = stock_list[28].split(' $')[3].split(' ')\n",
    "\n",
    "price = f'${price_info[0]}'\n",
    "performance_today = price_info[1]"
   ]
  },
  {
   "cell_type": "code",
   "execution_count": 18,
   "metadata": {},
   "outputs": [
    {
     "data": {
      "text/plain": [
       "'Apple, Inc.'"
      ]
     },
     "execution_count": 18,
     "metadata": {},
     "output_type": "execute_result"
    }
   ],
   "source": [
    "company_info = company_info_parsed.split(' ')\n",
    "\n",
    "if 'NASDAQ' in company_info: \n",
    "    idx = company_info.index('NASDAQ')\n",
    "    exchange = company_info[idx]\n",
    "#     print('here')\n",
    "elif 'NYSE' in company_info:\n",
    "    idx = company_info.index('NYSE')\n",
    "    exchange = company_info[idx]\n",
    "elif 'NYSEMKT' in company_info:\n",
    "    idx = company_info.index('NYSEMKT')\n",
    "    exchange = company_info[idx]\n",
    "\n",
    "industry = \" \".join(company_info[idx + 1:])\n",
    "symbol = company_info[0]\n",
    "company_name = \" \".join(company_info[1:idx])\n",
    "company_name\n",
    "\n",
    "# Currently Parse\n",
    "    # symbol, company name, price, exchange, industry, market_cap, performance_today\n",
    "    # ebitda, p_e, ev_ebitda, debt_equity, average_volume, institutional_ownership, earning_date"
   ]
  },
  {
   "cell_type": "code",
   "execution_count": 19,
   "metadata": {},
   "outputs": [
    {
     "data": {
      "text/plain": [
       "['74.542B', '33.05', '24.95', '2.74', '52.096M', '62.12%', '29', 'Oct', '2020']"
      ]
     },
     "execution_count": 19,
     "metadata": {},
     "output_type": "execute_result"
    }
   ],
   "source": [
    "# Parse market info\n",
    "market_info.split(' ')"
   ]
  },
  {
   "cell_type": "code",
   "execution_count": 20,
   "metadata": {},
   "outputs": [],
   "source": [
    "ebitda = market_info.split(' ')[0]\n",
    "p_e = market_info.split(' ')[1]\n",
    "ev_ebitda = market_info.split(' ')[2]\n",
    "debt_equity = market_info.split(' ')[3]\n",
    "average_volume = market_info.split(' ')[4]\n",
    "institutional_ownership = market_info.split(' ')[5]\n",
    "earnings_date = \" \".join(market_info.split(' ')[6:])\n"
   ]
  },
  {
   "cell_type": "code",
   "execution_count": 87,
   "metadata": {},
   "outputs": [
    {
     "data": {
      "text/plain": [
       "{'symbol': 'AAPL',\n",
       " 'company_name': 'Apple, Inc.',\n",
       " 'exchange': 'NASDAQ',\n",
       " 'market_cap': '1.91T',\n",
       " 'price': '$109.17',\n",
       " 'performance_today': '-2.36%',\n",
       " 'ebitda': '74.542B',\n",
       " 'p_e': '33.68',\n",
       " 'ev_ebitda': '24.95',\n",
       " 'average_volume': '52.096M',\n",
       " 'institutional_ownership': '62.12%',\n",
       " 'earnings_date': '29 Oct 2020'}"
      ]
     },
     "execution_count": 87,
     "metadata": {},
     "output_type": "execute_result"
    }
   ],
   "source": [
    "x_stock = {\n",
    "    \"symbol\": symbol,\n",
    "    \"company_name\": company_name,\n",
    "    \"exchange\": exchange,\n",
    "    \"market_cap\": market_cap,\n",
    "    \"price\": price,\n",
    "    \"performance_today\": performance_today,\n",
    "    \"ebitda\": ebitda,\n",
    "    \"p_e\": p_e,\n",
    "    \"ev_ebitda\": ev_ebitda,\n",
    "    \"average_volume\": average_volume,\n",
    "    \"institutional_ownership\": institutional_ownership,\n",
    "    \"earnings_date\": earnings_date\n",
    "}\n",
    "\n",
    "x_stock"
   ]
  },
  {
   "cell_type": "code",
   "execution_count": 22,
   "metadata": {},
   "outputs": [],
   "source": [
    "all_stocks = stock_list[28:]\n",
    "# baba = all_stocks.pop(5)"
   ]
  },
  {
   "cell_type": "code",
   "execution_count": 28,
   "metadata": {
    "scrolled": true
   },
   "outputs": [
    {
     "name": "stdout",
     "output_type": "stream",
     "text": [
      "['AAPL Apple, Inc. NASDAQ Consumer Electronics $1.83T $74.542B 33.05 24.95 2.74 52.096M 62.12% 29 Oct 2020 $108.67 +1.45%', 'MSFT Microsoft Corp. NASDAQ Internet Services & Infrastructure $1.54T $65.259B 34.61 22.40 1.55 34.993M 74.09% 22 Oct 2020 $203.19 +1.30%', 'AMZN Amazon.com, Inc. NASDAQ Specialty Retail $1.50T $30.457B 115.76 49.32 2.63 5.062M 57.69% 22 Oct 2020 $3,019.79 +0.66%', 'GOOG Alphabet, Inc. NASDAQ Internet Services & Infrastructure $960.56B $47.254B 28.63 18.82 0.37 1.791M 70.62% 22 Oct 2020 $1,428.29 +0.92%', 'GOOGL Alphabet, Inc. NASDAQ Internet Services & Infrastructure $960.56B $47.254B 30.83 18.69 0.37 1.859M 82.29% 22 Oct 2020 $1,422.86 +0.96%', 'FB Facebook, Inc. NASDAQ Internet Services & Infrastructure $725.94B $34.727B 30.18 19.46 0.32 26.764M 79.41% 28 Oct 2020 $249.53 +0.20%', 'BRK-A Berkshire Hathaway Inc. NYSE Multi-line Insurance $520.31B $53.661B 19.19 11.11 0.92 1.012k 24.67% N/A $313,780.00 -0.34%', 'BRK-B Berkshire Hathaway Inc. NYSE Multi-line Insurance $520.31B $53.661B 23.01 11.11 0.92 4.742M 68.84% 2 Nov 2020 $208.79 -0.39%', 'V Visa, Inc. NYSE Consumer Finance $450.66B $16.057B 37.15 24.72 1.09 8.058M 98.06% 21 Oct 2020 $195.52 +0.08%', 'WMT Walmart, Inc. NYSE Hypermarkets & Super Centers $391.94B $32.455B 21.52 13.75 2.08 10.856M 30.95% 17 Nov 2020 $136.70 +0.52%', 'JNJ Johnson & Johnson NYSE Pharmaceuticals $387.47B $28.559B 24.99 14.08 1.65 5.875M 70.25% 13 Oct 2020 $144.67 +0.16%', 'TSLA Tesla, Inc. NASDAQ Automobile Manufacturers $355.08B $2.234B 948.43 188.09 3.96 320.411M 57.93% 27 Oct 2020 $387.79 +1.95%', 'PG Procter & Gamble Co. NYSE Household & Personal Products $342.37B $19.405B 26.57 18.63 1.57 5.969M 65.03% 20 Oct 2020 $136.88 +0.42%', 'MA Mastercard, Inc. NYSE Consumer Finance $324.87B $10.324B 44.94 32.61 3.94 3.650M 78.62% 3 Nov 2020 $328.21 +1.13%', 'JPM JPMorgan Chase & Co. NYSE Diversified Banks $300.37B N/A 12.45 N/A 9.28 18.768M 76.08% 13 Oct 2020 $92.66 -0.09%', 'NVDA NVIDIA Corp. NASDAQ Semiconductors $299.56B $3.272B 90.35 89.52 0.42 12.712M 69.23% 5 Nov 2020 $493.92 +1.85%', 'HD The Home Depot, Inc. NYSE Home Improvement Retail $294.21B $18.139B 24.48 18.27 -17.44 3.810M 72.20% 17 Nov 2020 $265.70 -0.32%', 'UNH UnitedHealth Group, Inc. NYSE Managed Health Care $289.83B N/A 16.22 N/A 1.94 2.677M 89.92% 20 Oct 2020 $292.66 +0.18%', 'VZ Verizon Communications, Inc. NYSE Telecommunication Services $250.72B $47.189B 12.70 8.03 3.73 11.622M 68.43% 21 Oct 2020 $59.19 +0.48%', 'PYPL PayPal Holdings, Inc. NASDAQ Consumer Finance $238.74B $3.166B 83.31 63.58 2.04 7.950M 86.62% 15 Oct 2020 $182.19 +0.32%', 'ADBE Adobe, Inc. NASDAQ Application Software $233.49B $3.965B 58.41 56.55 0.97 2.888M 89.10% 9 Dec 2020 $467.67 -0.58%', 'DIS The Walt Disney Co. NYSE Media $229.88B $15.891B N/A 17.24 1.13 11.261M 66.29% 5 Nov 2020 $122.50 -0.63%', 'CRM salesforce.com, inc. NYSE Application Software $222.52B $2.626B 91.38 83.49 0.63 7.752M 85.16% 18 Nov 2020 $237.50 +0.64%', 'BAC Bank of America Corp. NYSE Diversified Banks $219.63B N/A 11.08 N/A 8.19 61.231M 73.24% 14 Oct 2020 $23.34 +0.34%', 'KO The Coca-Cola Co. NYSE Soft Drinks $217.13B $11.869B 22.42 21.04 3.44 15.267M 70.00% 22 Oct 2020 $48.70 +1.02%', 'MRK Merck & Co., Inc. NYSE Pharmaceuticals $216.43B $16.985B 20.01 13.77 2.25 8.025M 78.56% 27 Oct 2020 $83.15 +0.63%', 'INTC Intel Corp. NASDAQ Semiconductors $214.01B $33.254B 8.91 6.88 0.76 34.503M 69.04% 20 Oct 2020 $49.16 +0.70%', 'CMCSA Comcast Corp. NASDAQ Cable & Satellite $208.21B $34.078B 18.00 9.12 2.17 17.743M 85.06% 29 Oct 2020 $45.70 +0.75%', 'NFLX Netflix, Inc. NASDAQ Media $207.37B $11.924B 77.04 18.33 3.48 8.901M 83.49% 20 Oct 2020 $473.08 +0.52%', 'T AT&T, Inc. NYSE Telecommunication Services $207.12B $58.594B 17.10 6.52 1.90 33.344M 57.41% 22 Oct 2020 $28.04 +0.61%', 'NVS Novartis AG NYSE Pharmaceuticals $206.84B $15.934B 17.11 13.69 1.13 1.573M 11.06% 27 Oct 2020 $86.30 -1.32%', 'PFE Pfizer Inc. NYSE Pharmaceuticals $201.44B $20.127B 14.12 12.28 1.65 27.604M 72.56% 27 Oct 2020 $35.76 -0.67%', 'ABT Abbott Laboratories NYSE Health Care Equipment $188.84B $7.605B 58.70 26.85 1.17 5.118M 77.18% 21 Oct 2020 $100.92 -1.76%', 'PEP PepsiCo, Inc. NASDAQ Soft Drinks $184.43B $13.080B 26.63 16.05 4.31 4.146M 73.53% 1 Oct 2020 $131.58 +0.44%', 'NKE NIKE, Inc. NYSE Footwear $182.30B $3.491B 77.78 52.44 2.89 6.084M 85.83% 17 Dec 2020 $124.75 -1.86%', 'MPNGY Meituan Dianping NYSEMKT Internet Retail $181.87B N/A 361.41 47.78 0.43 22.205k 0.00% N/A $62.00 -2.82%', 'MPNGY Meituan Dianping NASDAQ Internet Retail $181.87B N/A 361.41 47.78 0.43 21.844k 0.00% N/A $61.76 -3.21%', 'ORCL Oracle Corp. NYSE Internet Services & Infrastructure $180.97B $17.181B 18.09 12.24 8.51 15.503M 52.78% 10 Dec 2020 $59.30 +0.58%', 'TMO Thermo Fisher Scientific, Inc. NYSE Life Sciences Tools & Services $171.26B $6.536B 45.19 28.43 0.97 1.243M 93.01% 21 Oct 2020 $418.14 -0.62%', 'CSCO Cisco Systems, Inc. NASDAQ Communications Equipment $170.90B $15.906B 14.45 9.73 1.50 26.468M 73.98% 12 Nov 2020 $37.85 -1.12%', \"MCD McDonald's Corp. NYSE Restaurants $165.62B $10.432B 33.75 20.18 -6.79 3.029M 68.79% 27 Oct 2020 $217.99 +1.40%\", 'XOM Exxon Mobil Corp. NYSE Integrated Oil & Gas $159.83B $30.762B 20.48 6.73 0.85 22.510M 56.77% 30 Oct 2020 $34.32 -0.20%', 'ABBV AbbVie, Inc. NYSE Pharmaceuticals $158.18B $15.932B 18.46 11.69 -11.90 7.017M 76.76% 30 Oct 2020 $85.90 -1.42%']\n"
     ]
    }
   ],
   "source": [
    "index_list = []\n",
    "final_list = []\n",
    "\n",
    "for i in range(len(all_stocks)):\n",
    "    each_stock = all_stocks[i]\n",
    "    \n",
    "    if 'Intel' in each_stock:\n",
    "        final_list.append(each_stock)\n",
    "    elif 'NT' in each_stock:\n",
    "        pass\n",
    "    elif '¥' in each_stock:\n",
    "        pass\n",
    "    elif '€' in each_stock:\n",
    "        pass\n",
    "    elif 'kr' in each_stock:\n",
    "        pass\n",
    "    elif 'XETRA' in each_stock:\n",
    "        pass\n",
    "    else:\n",
    "        final_list.append(each_stock)\n",
    "\n",
    "print(final_list)"
   ]
  },
  {
   "cell_type": "code",
   "execution_count": 32,
   "metadata": {},
   "outputs": [
    {
     "name": "stdout",
     "output_type": "stream",
     "text": [
      "['AAPL Apple, Inc. NASDAQ Consumer Electronics', '1.83T', '74.542B 33.05 24.95 2.74 52.096M 62.12% 29 Oct 2020', '108.67 +1.45%']\n"
     ]
    }
   ],
   "source": [
    "x = parse_stock_data(final_list[0])"
   ]
  },
  {
   "cell_type": "code",
   "execution_count": 33,
   "metadata": {},
   "outputs": [],
   "source": [
    "driver.get(f\"https://wallmine.com/{x.get('exchange')}/{x.get('symbol')}\")"
   ]
  },
  {
   "cell_type": "code",
   "execution_count": null,
   "metadata": {},
   "outputs": [],
   "source": [
    "for each_stock in final_list:\n",
    "    x = parse_stock_data(each_stock)\n",
    "    driver.get(f\"https://wallmine.com/{x.get('exchange')}/{x.get('symbol')}\")\n",
    "    time.sleep(3)\n",
    "    \n",
    "    if x.get('symbol') in driver.page_source:\n",
    "        print(f\"We are on {x.get('company_name')} stock page\")"
   ]
  },
  {
   "cell_type": "code",
   "execution_count": null,
   "metadata": {},
   "outputs": [],
   "source": [
    "def parse_stock_data(data):\n",
    "    company_info_parsed = data.split(' $')[0]\n",
    "    company_info = company_info_parsed.split(' ')\n",
    "    if 'NASDAQ' in company_info:\n",
    "        idx = company_info.index('NASDAQ')\n",
    "        exchange = company_info[idx]\n",
    "    elif 'NYSE' in company_info:\n",
    "        idx = company_info.index('NYSE')\n",
    "        exchange = company_info[idx]\n",
    "    elif 'NYSEMKT' in company_info:\n",
    "        idx = company_info.index('NYSEMKT')\n",
    "        exchange = company_info[idx]\n",
    "    industry = \" \".join(company_info[idx + 1:])\n",
    "    symbol = company_info[0]\n",
    "    company_name = \" \".join(company_info[1:idx])\n",
    "    if 'N/A' in data.split(' $')[1]:\n",
    "        market_cap_1 = data.split(' $')[1].split(' ')\n",
    "        market_cap = market_cap_1[0]\n",
    "        ebitda = market_cap_1[1]\n",
    "        p_e = market_cap_1[2]\n",
    "        ev_ebitda = market_cap_1[3]\n",
    "        debt_equity = market_cap_1[4]\n",
    "        average_volume = market_cap_1[5]\n",
    "        institutional_ownership = market_cap_1[6]\n",
    "        earnings_date = \" \".join(market_cap_1[7:])\n",
    "        price_info = data.split(' $')[2].split(' ')\n",
    "        price = price_info[0]\n",
    "        performance_today = price_info[1]\n",
    "    else:\n",
    "        market_cap = data.split(' $')[1]\n",
    "        market_info = data.split(' $')[2]\n",
    "        ebitda = market_info.split(' ')[0]\n",
    "        p_e = market_info.split(' ')[1]\n",
    "        ev_ebitda = market_info.split(' ')[2]\n",
    "        debt_equity = market_info.split(' ')[3]\n",
    "        average_volume = market_info.split(' ')[4]\n",
    "        institutional_ownership = market_info.split(' ')[5]\n",
    "        earnings_date = \" \".join(market_info.split(' ')[6:])\n",
    "        price_info = data.split(' $')[3].split(' ')\n",
    "        price = price_info[0]\n",
    "        performance_today = price_info[1]\n",
    "    result = {\n",
    "        \"symbol\": symbol,\n",
    "        \"company_name\": company_name,\n",
    "        \"exchange\": exchange,\n",
    "        \"industry\": industry,\n",
    "        \"market_cap\": market_cap,\n",
    "        \"price\": price,\n",
    "        \"performance_today\": performance_today,\n",
    "        \"ebitda\": ebitda,\n",
    "        \"p_e\": p_e,\n",
    "        \"ev_ebitda\": ev_ebitda,\n",
    "        \"debt_equity\": debt_equity,\n",
    "        \"average_volume\": average_volume,\n",
    "        \"institutional_ownership\": institutional_ownership, \n",
    "        \"earnings_date\": earnings_date\n",
    "    }\n",
    "    return result"
   ]
  },
  {
   "cell_type": "code",
   "execution_count": 44,
   "metadata": {},
   "outputs": [],
   "source": [
    "final_list = []\n",
    "for i in range(len(stock_list[28:])):\n",
    "    each_stock = stock_list[28:][i]\n",
    "    if 'Intel' in each_stock:\n",
    "        final_list.append(each_stock)\n",
    "    elif 'NT' in each_stock:\n",
    "        pass\n",
    "    elif '¥' in each_stock:\n",
    "        pass\n",
    "    elif '€' in each_stock:\n",
    "        pass\n",
    "    elif 'kr' in each_stock:\n",
    "        pass\n",
    "    elif 'XETRA' in each_stock:\n",
    "        pass\n",
    "    else:\n",
    "        final_list.append(each_stock)"
   ]
  },
  {
   "cell_type": "code",
   "execution_count": 46,
   "metadata": {},
   "outputs": [
    {
     "name": "stdout",
     "output_type": "stream",
     "text": [
      "['AAPL Apple, Inc. NASDAQ Consumer Electronics', '1.83T', '74.542B 33.05 24.95 2.74 52.096M 62.12% 29 Oct 2020', '108.67 +1.45%']\n",
      "{'symbol': 'AAPL', 'company_name': 'Apple, Inc.', 'exchange': 'NASDAQ', 'industry': 'Consumer Electronics', 'market_cap': '1.83T', 'price': '$108.67', 'performance_today': '+1.45%', 'ebitda': '74.542B', 'p_e': '33.05', 'ev_ebitda': '24.95', 'average_volume': '52.096M', 'institutional_ownership': '62.12%', 'earnings_date': '29 Oct 2020'}\n",
      "['MSFT Microsoft Corp. NASDAQ Internet Services & Infrastructure', '1.54T', '65.259B 34.61 22.40 1.55 34.993M 74.09% 22 Oct 2020', '203.19 +1.30%']\n",
      "{'symbol': 'MSFT', 'company_name': 'Microsoft Corp.', 'exchange': 'NASDAQ', 'industry': 'Internet Services & Infrastructure', 'market_cap': '1.54T', 'price': '$203.19', 'performance_today': '+1.30%', 'ebitda': '65.259B', 'p_e': '34.61', 'ev_ebitda': '22.40', 'average_volume': '34.993M', 'institutional_ownership': '74.09%', 'earnings_date': '22 Oct 2020'}\n",
      "['AMZN Amazon.com, Inc. NASDAQ Specialty Retail', '1.50T', '30.457B 115.76 49.32 2.63 5.062M 57.69% 22 Oct 2020', '3,019.79 +0.66%']\n",
      "{'symbol': 'AMZN', 'company_name': 'Amazon.com, Inc.', 'exchange': 'NASDAQ', 'industry': 'Specialty Retail', 'market_cap': '1.50T', 'price': '$3,019.79', 'performance_today': '+0.66%', 'ebitda': '30.457B', 'p_e': '115.76', 'ev_ebitda': '49.32', 'average_volume': '5.062M', 'institutional_ownership': '57.69%', 'earnings_date': '22 Oct 2020'}\n",
      "['GOOG Alphabet, Inc. NASDAQ Internet Services & Infrastructure', '960.56B', '47.254B 28.63 18.82 0.37 1.791M 70.62% 22 Oct 2020', '1,428.29 +0.92%']\n",
      "{'symbol': 'GOOG', 'company_name': 'Alphabet, Inc.', 'exchange': 'NASDAQ', 'industry': 'Internet Services & Infrastructure', 'market_cap': '960.56B', 'price': '$1,428.29', 'performance_today': '+0.92%', 'ebitda': '47.254B', 'p_e': '28.63', 'ev_ebitda': '18.82', 'average_volume': '1.791M', 'institutional_ownership': '70.62%', 'earnings_date': '22 Oct 2020'}\n",
      "['GOOGL Alphabet, Inc. NASDAQ Internet Services & Infrastructure', '960.56B', '47.254B 30.83 18.69 0.37 1.859M 82.29% 22 Oct 2020', '1,422.86 +0.96%']\n",
      "{'symbol': 'GOOGL', 'company_name': 'Alphabet, Inc.', 'exchange': 'NASDAQ', 'industry': 'Internet Services & Infrastructure', 'market_cap': '960.56B', 'price': '$1,422.86', 'performance_today': '+0.96%', 'ebitda': '47.254B', 'p_e': '30.83', 'ev_ebitda': '18.69', 'average_volume': '1.859M', 'institutional_ownership': '82.29%', 'earnings_date': '22 Oct 2020'}\n",
      "['FB Facebook, Inc. NASDAQ Internet Services & Infrastructure', '725.94B', '34.727B 30.18 19.46 0.32 26.764M 79.41% 28 Oct 2020', '249.53 +0.20%']\n",
      "{'symbol': 'FB', 'company_name': 'Facebook, Inc.', 'exchange': 'NASDAQ', 'industry': 'Internet Services & Infrastructure', 'market_cap': '725.94B', 'price': '$249.53', 'performance_today': '+0.20%', 'ebitda': '34.727B', 'p_e': '30.18', 'ev_ebitda': '19.46', 'average_volume': '26.764M', 'institutional_ownership': '79.41%', 'earnings_date': '28 Oct 2020'}\n",
      "['BRK-A Berkshire Hathaway Inc. NYSE Multi-line Insurance', '520.31B', '53.661B 19.19 11.11 0.92 1.012k 24.67% N/A', '313,780.00 -0.34%']\n",
      "{'symbol': 'BRK-A', 'company_name': 'Berkshire Hathaway Inc.', 'exchange': 'NYSE', 'industry': 'Multi-line Insurance', 'market_cap': '520.31B', 'price': '$313,780.00', 'performance_today': '-0.34%', 'ebitda': '53.661B', 'p_e': '19.19', 'ev_ebitda': '11.11', 'average_volume': '1.012k', 'institutional_ownership': '24.67%', 'earnings_date': 'N/A'}\n",
      "['BRK-B Berkshire Hathaway Inc. NYSE Multi-line Insurance', '520.31B', '53.661B 23.01 11.11 0.92 4.742M 68.84% 2 Nov 2020', '208.79 -0.39%']\n",
      "{'symbol': 'BRK-B', 'company_name': 'Berkshire Hathaway Inc.', 'exchange': 'NYSE', 'industry': 'Multi-line Insurance', 'market_cap': '520.31B', 'price': '$208.79', 'performance_today': '-0.39%', 'ebitda': '53.661B', 'p_e': '23.01', 'ev_ebitda': '11.11', 'average_volume': '4.742M', 'institutional_ownership': '68.84%', 'earnings_date': '2 Nov 2020'}\n",
      "['V Visa, Inc. NYSE Consumer Finance', '450.66B', '16.057B 37.15 24.72 1.09 8.058M 98.06% 21 Oct 2020', '195.52 +0.08%']\n",
      "{'symbol': 'V', 'company_name': 'Visa, Inc.', 'exchange': 'NYSE', 'industry': 'Consumer Finance', 'market_cap': '450.66B', 'price': '$195.52', 'performance_today': '+0.08%', 'ebitda': '16.057B', 'p_e': '37.15', 'ev_ebitda': '24.72', 'average_volume': '8.058M', 'institutional_ownership': '98.06%', 'earnings_date': '21 Oct 2020'}\n",
      "['WMT Walmart, Inc. NYSE Hypermarkets & Super Centers', '391.94B', '32.455B 21.52 13.75 2.08 10.856M 30.95% 17 Nov 2020', '136.70 +0.52%']\n",
      "{'symbol': 'WMT', 'company_name': 'Walmart, Inc.', 'exchange': 'NYSE', 'industry': 'Hypermarkets & Super Centers', 'market_cap': '391.94B', 'price': '$136.70', 'performance_today': '+0.52%', 'ebitda': '32.455B', 'p_e': '21.52', 'ev_ebitda': '13.75', 'average_volume': '10.856M', 'institutional_ownership': '30.95%', 'earnings_date': '17 Nov 2020'}\n",
      "['JNJ Johnson & Johnson NYSE Pharmaceuticals', '387.47B', '28.559B 24.99 14.08 1.65 5.875M 70.25% 13 Oct 2020', '144.67 +0.16%']\n",
      "{'symbol': 'JNJ', 'company_name': 'Johnson & Johnson', 'exchange': 'NYSE', 'industry': 'Pharmaceuticals', 'market_cap': '387.47B', 'price': '$144.67', 'performance_today': '+0.16%', 'ebitda': '28.559B', 'p_e': '24.99', 'ev_ebitda': '14.08', 'average_volume': '5.875M', 'institutional_ownership': '70.25%', 'earnings_date': '13 Oct 2020'}\n",
      "['TSLA Tesla, Inc. NASDAQ Automobile Manufacturers', '355.08B', '2.234B 948.43 188.09 3.96 320.411M 57.93% 27 Oct 2020', '387.79 +1.95%']\n",
      "{'symbol': 'TSLA', 'company_name': 'Tesla, Inc.', 'exchange': 'NASDAQ', 'industry': 'Automobile Manufacturers', 'market_cap': '355.08B', 'price': '$387.79', 'performance_today': '+1.95%', 'ebitda': '2.234B', 'p_e': '948.43', 'ev_ebitda': '188.09', 'average_volume': '320.411M', 'institutional_ownership': '57.93%', 'earnings_date': '27 Oct 2020'}\n",
      "['PG Procter & Gamble Co. NYSE Household & Personal Products', '342.37B', '19.405B 26.57 18.63 1.57 5.969M 65.03% 20 Oct 2020', '136.88 +0.42%']\n",
      "{'symbol': 'PG', 'company_name': 'Procter & Gamble Co.', 'exchange': 'NYSE', 'industry': 'Household & Personal Products', 'market_cap': '342.37B', 'price': '$136.88', 'performance_today': '+0.42%', 'ebitda': '19.405B', 'p_e': '26.57', 'ev_ebitda': '18.63', 'average_volume': '5.969M', 'institutional_ownership': '65.03%', 'earnings_date': '20 Oct 2020'}\n",
      "['MA Mastercard, Inc. NYSE Consumer Finance', '324.87B', '10.324B 44.94 32.61 3.94 3.650M 78.62% 3 Nov 2020', '328.21 +1.13%']\n",
      "{'symbol': 'MA', 'company_name': 'Mastercard, Inc.', 'exchange': 'NYSE', 'industry': 'Consumer Finance', 'market_cap': '324.87B', 'price': '$328.21', 'performance_today': '+1.13%', 'ebitda': '10.324B', 'p_e': '44.94', 'ev_ebitda': '32.61', 'average_volume': '3.650M', 'institutional_ownership': '78.62%', 'earnings_date': '3 Nov 2020'}\n",
      "['JPM JPMorgan Chase & Co. NYSE Diversified Banks', '300.37B N/A 12.45 N/A 9.28 18.768M 76.08% 13 Oct 2020', '92.66 -0.09%']\n"
     ]
    },
    {
     "ename": "IndexError",
     "evalue": "list index out of range",
     "output_type": "error",
     "traceback": [
      "\u001b[0;31m---------------------------------------------------------------------------\u001b[0m",
      "\u001b[0;31mIndexError\u001b[0m                                Traceback (most recent call last)",
      "\u001b[0;32m<ipython-input-46-07aea5572618>\u001b[0m in \u001b[0;36m<module>\u001b[0;34m\u001b[0m\n\u001b[1;32m      1\u001b[0m \u001b[0;32mfor\u001b[0m \u001b[0meach_stock\u001b[0m \u001b[0;32min\u001b[0m \u001b[0mfinal_list\u001b[0m\u001b[0;34m:\u001b[0m\u001b[0;34m\u001b[0m\u001b[0;34m\u001b[0m\u001b[0m\n\u001b[0;32m----> 2\u001b[0;31m     \u001b[0mprint\u001b[0m\u001b[0;34m(\u001b[0m\u001b[0mparse_stock_data\u001b[0m\u001b[0;34m(\u001b[0m\u001b[0meach_stock\u001b[0m\u001b[0;34m)\u001b[0m\u001b[0;34m)\u001b[0m\u001b[0;34m\u001b[0m\u001b[0;34m\u001b[0m\u001b[0m\n\u001b[0m\u001b[1;32m      3\u001b[0m     \u001b[0mtime\u001b[0m\u001b[0;34m.\u001b[0m\u001b[0msleep\u001b[0m\u001b[0;34m(\u001b[0m\u001b[0;36m1\u001b[0m\u001b[0;34m)\u001b[0m\u001b[0;34m\u001b[0m\u001b[0;34m\u001b[0m\u001b[0m\n",
      "\u001b[0;32m<ipython-input-21-96fec6201b78>\u001b[0m in \u001b[0;36mparse_stock_data\u001b[0;34m(data)\u001b[0m\n\u001b[1;32m      4\u001b[0m     \u001b[0mmarket_cap\u001b[0m \u001b[0;34m=\u001b[0m \u001b[0mdata\u001b[0m\u001b[0;34m.\u001b[0m\u001b[0msplit\u001b[0m\u001b[0;34m(\u001b[0m\u001b[0;34m' $'\u001b[0m\u001b[0;34m)\u001b[0m\u001b[0;34m[\u001b[0m\u001b[0;36m1\u001b[0m\u001b[0;34m]\u001b[0m\u001b[0;34m\u001b[0m\u001b[0;34m\u001b[0m\u001b[0m\n\u001b[1;32m      5\u001b[0m     \u001b[0mmarket_info\u001b[0m \u001b[0;34m=\u001b[0m \u001b[0mdata\u001b[0m\u001b[0;34m.\u001b[0m\u001b[0msplit\u001b[0m\u001b[0;34m(\u001b[0m\u001b[0;34m' $'\u001b[0m\u001b[0;34m)\u001b[0m\u001b[0;34m[\u001b[0m\u001b[0;36m2\u001b[0m\u001b[0;34m]\u001b[0m\u001b[0;34m\u001b[0m\u001b[0;34m\u001b[0m\u001b[0m\n\u001b[0;32m----> 6\u001b[0;31m     \u001b[0mprice_info\u001b[0m \u001b[0;34m=\u001b[0m \u001b[0mdata\u001b[0m\u001b[0;34m.\u001b[0m\u001b[0msplit\u001b[0m\u001b[0;34m(\u001b[0m\u001b[0;34m' $'\u001b[0m\u001b[0;34m)\u001b[0m\u001b[0;34m[\u001b[0m\u001b[0;36m3\u001b[0m\u001b[0;34m]\u001b[0m\u001b[0;34m.\u001b[0m\u001b[0msplit\u001b[0m\u001b[0;34m(\u001b[0m\u001b[0;34m' '\u001b[0m\u001b[0;34m)\u001b[0m\u001b[0;34m\u001b[0m\u001b[0;34m\u001b[0m\u001b[0m\n\u001b[0m\u001b[1;32m      7\u001b[0m     \u001b[0mprice\u001b[0m \u001b[0;34m=\u001b[0m \u001b[0;34mf'${price_info[0]}'\u001b[0m\u001b[0;34m\u001b[0m\u001b[0;34m\u001b[0m\u001b[0m\n\u001b[1;32m      8\u001b[0m     \u001b[0mperformance_today\u001b[0m \u001b[0;34m=\u001b[0m \u001b[0mprice_info\u001b[0m\u001b[0;34m[\u001b[0m\u001b[0;36m1\u001b[0m\u001b[0;34m]\u001b[0m\u001b[0;34m\u001b[0m\u001b[0;34m\u001b[0m\u001b[0m\n",
      "\u001b[0;31mIndexError\u001b[0m: list index out of range"
     ]
    }
   ],
   "source": [
    "for each_stock in final_list:\n",
    "    print(parse_stock_data(each_stock))\n",
    "    time.sleep(1)"
   ]
  },
  {
   "cell_type": "code",
   "execution_count": null,
   "metadata": {},
   "outputs": [],
   "source": []
  }
 ],
 "metadata": {
  "kernelspec": {
   "display_name": "Python 3",
   "language": "python",
   "name": "python3"
  },
  "language_info": {
   "codemirror_mode": {
    "name": "ipython",
    "version": 3
   },
   "file_extension": ".py",
   "mimetype": "text/x-python",
   "name": "python",
   "nbconvert_exporter": "python",
   "pygments_lexer": "ipython3",
   "version": "3.8.5"
  }
 },
 "nbformat": 4,
 "nbformat_minor": 4
}
