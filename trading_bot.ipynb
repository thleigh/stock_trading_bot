{
 "cells": [
  {
   "cell_type": "code",
   "execution_count": 16,
   "metadata": {},
   "outputs": [],
   "source": [
    "from selenium import webdriver"
   ]
  },
  {
   "cell_type": "code",
   "execution_count": 17,
   "metadata": {},
   "outputs": [],
   "source": [
    "import datetime, re, requests, io, time, random, string"
   ]
  },
  {
   "cell_type": "code",
   "execution_count": 18,
   "metadata": {},
   "outputs": [],
   "source": [
    "from bs4 import BeautifulSoup"
   ]
  },
  {
   "cell_type": "code",
   "execution_count": 41,
   "metadata": {},
   "outputs": [],
   "source": [
    "from credentials import email, password"
   ]
  },
  {
   "cell_type": "code",
   "execution_count": 20,
   "metadata": {},
   "outputs": [],
   "source": [
    "driver = webdriver.Chrome('/Users/tannerhleigh/downloads/chromedriver')"
   ]
  },
  {
   "cell_type": "code",
   "execution_count": 21,
   "metadata": {},
   "outputs": [],
   "source": [
    "# Go to wallmine.com\n",
    "driver.get('https://wallmine.com')"
   ]
  },
  {
   "cell_type": "code",
   "execution_count": 30,
   "metadata": {},
   "outputs": [],
   "source": [
    "if 'Make Smarter Investments' in driver.page_source:\n",
    "    print('on the right page!')\n",
    "    # Sign-in (copy x-path)\n",
    "    sign_in_link = driver.find_element_by_xpath('/html/body/main/header/div/ul/li[1]/ul/li[3]/a')\n",
    "    sign_in_link.click()\n",
    "    time.sleep(3)\n",
    "    print('Going to sign-in page')"
   ]
  },
  {
   "cell_type": "code",
   "execution_count": 38,
   "metadata": {},
   "outputs": [],
   "source": [
    "if \"Sign in here, please.\" in driver.page_source:\n",
    "    login_email = driver.find_element_by_xpath('//*[@id=\"user_email\"]')\n",
    "    sign_in_password = driver.find_element_by_xpath('//*[@id=\"new_user\"]/div[5]/div[1]/div[2]')\n",
    "    sign_in_password.click()\n",
    "    time.sleep(0.2)"
   ]
  },
  {
   "cell_type": "code",
   "execution_count": 39,
   "metadata": {},
   "outputs": [],
   "source": [
    "login_password = driver.find_element_by_xpath('//*[@id=\"user_password\"]')\n",
    "sign_in_button = driver.find_element_by_xpath('//*[@id=\"new_user\"]/div[5]/div[2]/div[1]/button')"
   ]
  },
  {
   "cell_type": "code",
   "execution_count": 42,
   "metadata": {},
   "outputs": [],
   "source": [
    "login_email.send_keys(email)\n",
    "login_password.send_keys(password)\n",
    "sign_in_button.click()\n",
    "time.sleep(3)"
   ]
  },
  {
   "cell_type": "code",
   "execution_count": 44,
   "metadata": {},
   "outputs": [
    {
     "name": "stdout",
     "output_type": "stream",
     "text": [
      "on the main page!\n"
     ]
    }
   ],
   "source": [
    "if 'Stock market overview' in driver.page_source:\n",
    "    print('on the main page!')\n",
    "    heatmap = driver.find_element_by_xpath('//*[@id=\"homepage-heatmap\"]/a/div[2]')\n",
    "    heatmap.click()\n",
    "    time.sleep(2)"
   ]
  },
  {
   "cell_type": "code",
   "execution_count": 46,
   "metadata": {},
   "outputs": [],
   "source": [
    "overview_tab = driver.find_element_by_xpath('/html/body/main/section/div[5]/div/div/div[1]/div/ul/li[1]/a')\n",
    "overview_tab.click()\n",
    "time.sleep(2)"
   ]
  },
  {
   "cell_type": "code",
   "execution_count": 52,
   "metadata": {},
   "outputs": [
    {
     "name": "stdout",
     "output_type": "stream",
     "text": [
      "on the stock tables!\n"
     ]
    }
   ],
   "source": [
    "if 'Free Stock Screen' in driver.page_source:\n",
    "    print('on the stock tables!')\n",
    "    stock_data = driver.find_element_by_xpath('/html/body/main/section/div[5]/div/div/div[2]').text\n",
    "stock_list = stock_data.split('\\n')"
   ]
  },
  {
   "cell_type": "code",
   "execution_count": 53,
   "metadata": {},
   "outputs": [
    {
     "data": {
      "text/plain": [
       "27"
      ]
     },
     "execution_count": 53,
     "metadata": {},
     "output_type": "execute_result"
    }
   ],
   "source": [
    "# finds the index point of the last table header\n",
    "stock_list.index('Performance today')"
   ]
  },
  {
   "cell_type": "code",
   "execution_count": 56,
   "metadata": {},
   "outputs": [
    {
     "data": {
      "text/plain": [
       "'AAPL Apple, Inc. NASDAQ Consumer Electronics $1.91T $74.542B 33.68 24.95 2.74 52.096M 62.12% 29 Oct 2020 $109.17 -2.36%'"
      ]
     },
     "execution_count": 56,
     "metadata": {},
     "output_type": "execute_result"
    }
   ],
   "source": [
    "# 28 is the index of the first company on the table\n",
    "stock_list[28]\n",
    "# stock_list[28:] to view the whole list"
   ]
  },
  {
   "cell_type": "code",
   "execution_count": 63,
   "metadata": {},
   "outputs": [
    {
     "data": {
      "text/plain": [
       "['AAPL', 'Apple,', 'Inc.', 'NASDAQ', 'Consumer', 'Electronics']"
      ]
     },
     "execution_count": 63,
     "metadata": {},
     "output_type": "execute_result"
    }
   ],
   "source": [
    "company_info_parsed = stock_list[28].split(' $')[0]\n",
    "market_cap = stock_list[28].split(' $')[1]\n",
    "market_info = stock_list[28].split(' $')[2]\n",
    "price_info = stock_list[28].split(' $')[3].split(' ')\n",
    "\n",
    "price = f'${price_info[0]}'\n",
    "performance_today = price_info[1]"
   ]
  },
  {
   "cell_type": "code",
   "execution_count": 79,
   "metadata": {},
   "outputs": [
    {
     "data": {
      "text/plain": [
       "'Apple, Inc.'"
      ]
     },
     "execution_count": 79,
     "metadata": {},
     "output_type": "execute_result"
    }
   ],
   "source": [
    "company_info = company_info_parsed.split(' ')\n",
    "\n",
    "if 'NASDAQ' in company_info: \n",
    "    idx = company_info.index('NASDAQ')\n",
    "    exchange = company_info[idx]\n",
    "#     print('here')\n",
    "elif 'NYSE' in company_info:\n",
    "    idx = company_info.index('NYSE')\n",
    "    exchange = company_info[idx]\n",
    "elif 'NYSEMKT' in company_info:\n",
    "    idx = company_info.index('NYSEMKT')\n",
    "    exchange = company_info[idx]\n",
    "\n",
    "industry = \" \".join(company_info[idx + 1:])\n",
    "symbol = company_info[0]\n",
    "company_name = \" \".join(company_info[1:idx])\n",
    "company_name\n",
    "\n",
    "# Currently Parse\n",
    "    # symbol, company name, price, exchange, industry, market_cap, performance_today\n",
    "    # ebitda, p_e, ev_ebitda, debt_equity, average_volume, institutional_ownership, earning_date"
   ]
  },
  {
   "cell_type": "code",
   "execution_count": null,
   "metadata": {},
   "outputs": [],
   "source": [
    "# Parse market info\n",
    "market_info.split(' ')"
   ]
  },
  {
   "cell_type": "code",
   "execution_count": 86,
   "metadata": {},
   "outputs": [],
   "source": [
    "ebitda = market_info.split(' ')[0]\n",
    "p_e = market_info.split(' ')[1]\n",
    "ev_ebitda = market_info.split(' ')[2]\n",
    "debt_equity = market_info.split(' ')[3]\n",
    "average_volume = market_info.split(' ')[4]\n",
    "institutional_ownership = market_info.split(' ')[5]\n",
    "earnings_date = \" \".join(market_info.split(' ')[6:])\n"
   ]
  },
  {
   "cell_type": "code",
   "execution_count": 87,
   "metadata": {},
   "outputs": [
    {
     "data": {
      "text/plain": [
       "{'symbol': 'AAPL',\n",
       " 'company_name': 'Apple, Inc.',\n",
       " 'exchange': 'NASDAQ',\n",
       " 'market_cap': '1.91T',\n",
       " 'price': '$109.17',\n",
       " 'performance_today': '-2.36%',\n",
       " 'ebitda': '74.542B',\n",
       " 'p_e': '33.68',\n",
       " 'ev_ebitda': '24.95',\n",
       " 'average_volume': '52.096M',\n",
       " 'institutional_ownership': '62.12%',\n",
       " 'earnings_date': '29 Oct 2020'}"
      ]
     },
     "execution_count": 87,
     "metadata": {},
     "output_type": "execute_result"
    }
   ],
   "source": [
    "x_stock = {\n",
    "    \"symbol\": symbol,\n",
    "    \"company_name\": company_name,\n",
    "    \"exchange\": exchange,\n",
    "    \"market_cap\": market_cap,\n",
    "    \"price\": price,\n",
    "    \"performance_today\": performance_today,\n",
    "    \"ebitda\": ebitda,\n",
    "    \"p_e\": p_e,\n",
    "    \"ev_ebitda\": ev_ebitda,\n",
    "    \"average_volume\": average_volume,\n",
    "    \"institutional_ownership\": institutional_ownership,\n",
    "    \"earnings_date\": earnings_date\n",
    "}\n",
    "\n",
    "x_stock"
   ]
  },
  {
   "cell_type": "code",
   "execution_count": 96,
   "metadata": {},
   "outputs": [],
   "source": [
    "def parse_stock_data(data):\n",
    "    company_info_parsed = data.split(' $')[0]\n",
    "    market_cap = data.split(' $')[1]\n",
    "    market_info = data.split(' $')[2]\n",
    "    price_info = data.split(' $')[3].split(' ')\n",
    "    price = f'${price_info[0]}'\n",
    "    performance_today = price_info[1]\n",
    "    \n",
    "    company_info = company_info_parsed.split(' ')\n",
    "\n",
    "    if 'NASDAQ' in company_info: \n",
    "        idx = company_info.index('NASDAQ')\n",
    "        exchange = company_info[idx]\n",
    "    #     print('here')\n",
    "    elif 'NYSE' in company_info:\n",
    "        idx = company_info.index('NYSE')\n",
    "        exchange = company_info[idx]\n",
    "    elif 'NYSEMKT' in company_info:\n",
    "        idx = company_info.index('NYSEMKT')\n",
    "        exchange = company_info[idx]\n",
    "\n",
    "    industry = \" \".join(company_info[idx + 1:])\n",
    "    symbol = company_info[0]\n",
    "    company_name = \" \".join(company_info[1:idx])\n",
    "    \n",
    "    ebitda = market_info.split(' ')[0]\n",
    "    p_e = market_info.split(' ')[1]\n",
    "    ev_ebitda = market_info.split(' ')[2]\n",
    "    debt_equity = market_info.split(' ')[3]\n",
    "    average_volume = market_info.split(' ')[4]\n",
    "    institutional_ownership = market_info.split(' ')[5]\n",
    "    earnings_date = \" \".join(market_info.split(' ')[6:])\n",
    "    \n",
    "    result = {\n",
    "        \"symbol\": symbol,\n",
    "        \"company_name\": company_name,\n",
    "        \"exchange\": exchange,\n",
    "        \"industry\": industry,\n",
    "        \"market_cap\": market_cap,\n",
    "        \"price\": price,\n",
    "        \"performance_today\": performance_today,\n",
    "        \"ebitda\": ebitda,\n",
    "        \"p_e\": p_e,\n",
    "        \"ev_ebitda\": ev_ebitda,\n",
    "        \"average_volume\": average_volume,\n",
    "        \"institutional_ownership\": institutional_ownership,\n",
    "        \"earnings_date\": earnings_date\n",
    "    }\n",
    "    \n",
    "    return result"
   ]
  },
  {
   "cell_type": "code",
   "execution_count": 103,
   "metadata": {},
   "outputs": [
    {
     "data": {
      "text/plain": [
       "{'symbol': 'AMZN',\n",
       " 'company_name': 'Amazon.com, Inc.',\n",
       " 'exchange': 'NASDAQ',\n",
       " 'industry': 'Specialty Retail',\n",
       " 'market_cap': '1.51T',\n",
       " 'price': '$3,053.73',\n",
       " 'performance_today': '-2.41%',\n",
       " 'ebitda': '30.457B',\n",
       " 'p_e': '116.75',\n",
       " 'ev_ebitda': '49.32',\n",
       " 'average_volume': '5.062M',\n",
       " 'institutional_ownership': '57.69%',\n",
       " 'earnings_date': '22 Oct 2020'}"
      ]
     },
     "execution_count": 103,
     "metadata": {},
     "output_type": "execute_result"
    }
   ],
   "source": [
    "parse_stock_data(stock_list[30])"
   ]
  },
  {
   "cell_type": "code",
   "execution_count": 110,
   "metadata": {},
   "outputs": [],
   "source": [
    "all_stocks = stock_list[28:]\n",
    "# baba = all_stocks.pop(5)"
   ]
  },
  {
   "cell_type": "code",
   "execution_count": 111,
   "metadata": {},
   "outputs": [
    {
     "name": "stdout",
     "output_type": "stream",
     "text": [
      "{'symbol': 'AAPL', 'company_name': 'Apple, Inc.', 'exchange': 'NASDAQ', 'industry': 'Consumer Electronics', 'market_cap': '1.91T', 'price': '$109.17', 'performance_today': '-2.36%', 'ebitda': '74.542B', 'p_e': '33.68', 'ev_ebitda': '24.95', 'average_volume': '52.096M', 'institutional_ownership': '62.12%', 'earnings_date': '29 Oct 2020'}\n",
      "{'symbol': 'MSFT', 'company_name': 'Microsoft Corp.', 'exchange': 'NASDAQ', 'industry': 'Internet Services & Infrastructure', 'market_cap': '1.54T', 'price': '$204.14', 'performance_today': '-1.58%', 'ebitda': '65.259B', 'p_e': '35.64', 'ev_ebitda': '22.40', 'average_volume': '34.993M', 'institutional_ownership': '74.09%', 'earnings_date': '22 Oct 2020'}\n",
      "{'symbol': 'AMZN', 'company_name': 'Amazon.com, Inc.', 'exchange': 'NASDAQ', 'industry': 'Specialty Retail', 'market_cap': '1.51T', 'price': '$3,053.73', 'performance_today': '-2.41%', 'ebitda': '30.457B', 'p_e': '116.75', 'ev_ebitda': '49.32', 'average_volume': '5.062M', 'institutional_ownership': '57.69%', 'earnings_date': '22 Oct 2020'}\n",
      "{'symbol': 'GOOG', 'company_name': 'Alphabet, Inc.', 'exchange': 'NASDAQ', 'industry': 'Internet Services & Infrastructure', 'market_cap': '1.01T', 'price': '$1,434.49', 'performance_today': '-2.11%', 'ebitda': '47.254B', 'p_e': '29.55', 'ev_ebitda': '18.82', 'average_volume': '1.791M', 'institutional_ownership': '70.62%', 'earnings_date': '22 Oct 2020'}\n",
      "{'symbol': 'GOOGL', 'company_name': 'Alphabet, Inc.', 'exchange': 'NASDAQ', 'industry': 'Internet Services & Infrastructure', 'market_cap': '1.01T', 'price': '$1,427.05', 'performance_today': '-2.24%', 'ebitda': '47.254B', 'p_e': '31.85', 'ev_ebitda': '18.69', 'average_volume': '1.859M', 'institutional_ownership': '82.29%', 'earnings_date': '22 Oct 2020'}\n",
      "{'symbol': 'FB', 'company_name': 'Facebook, Inc.', 'exchange': 'NASDAQ', 'industry': 'Internet Services & Infrastructure', 'market_cap': '725.94B', 'price': '$252.90', 'performance_today': '-0.72%', 'ebitda': '34.727B', 'p_e': '30.88', 'ev_ebitda': '19.46', 'average_volume': '26.764M', 'institutional_ownership': '79.41%', 'earnings_date': '28 Oct 2020'}\n",
      "{'symbol': 'BRK-A', 'company_name': 'Berkshire Hathaway Inc.', 'exchange': 'NYSE', 'industry': 'Multi-line Insurance', 'market_cap': '520.31B', 'price': '$318,812.00', 'performance_today': '-0.56%', 'ebitda': '53.661B', 'p_e': '19.54', 'ev_ebitda': '11.11', 'average_volume': '1.012k', 'institutional_ownership': '24.67%', 'earnings_date': 'N/A'}\n",
      "{'symbol': 'BRK-B', 'company_name': 'Berkshire Hathaway Inc.', 'exchange': 'NYSE', 'industry': 'Multi-line Insurance', 'market_cap': '520.31B', 'price': '$212.10', 'performance_today': '-0.96%', 'ebitda': '53.661B', 'p_e': '23.51', 'ev_ebitda': '11.11', 'average_volume': '4.742M', 'institutional_ownership': '68.84%', 'earnings_date': '2 Nov 2020'}\n",
      "{'symbol': 'V', 'company_name': 'Visa, Inc.', 'exchange': 'NYSE', 'industry': 'Consumer Finance', 'market_cap': '450.66B', 'price': '$197.96', 'performance_today': '-1.29%', 'ebitda': '16.057B', 'p_e': '38.13', 'ev_ebitda': '24.72', 'average_volume': '8.058M', 'institutional_ownership': '98.06%', 'earnings_date': '21 Oct 2020'}\n"
     ]
    },
    {
     "ename": "IndexError",
     "evalue": "list index out of range",
     "output_type": "error",
     "traceback": [
      "\u001b[0;31m--------------------------------------------------\u001b[0m",
      "\u001b[0;31mIndexError\u001b[0m       Traceback (most recent call last)",
      "\u001b[0;32m<ipython-input-111-6b755d7e791f>\u001b[0m in \u001b[0;36m<module>\u001b[0;34m\u001b[0m\n\u001b[1;32m      1\u001b[0m \u001b[0;32mfor\u001b[0m \u001b[0meach_stock\u001b[0m \u001b[0;32min\u001b[0m \u001b[0mall_stocks\u001b[0m\u001b[0;34m:\u001b[0m\u001b[0;34m\u001b[0m\u001b[0;34m\u001b[0m\u001b[0m\n\u001b[0;32m----> 2\u001b[0;31m     \u001b[0mprint\u001b[0m\u001b[0;34m(\u001b[0m\u001b[0mparse_stock_data\u001b[0m\u001b[0;34m(\u001b[0m\u001b[0meach_stock\u001b[0m\u001b[0;34m)\u001b[0m\u001b[0;34m)\u001b[0m\u001b[0;34m\u001b[0m\u001b[0;34m\u001b[0m\u001b[0m\n\u001b[0m",
      "\u001b[0;32m<ipython-input-96-ef941a843d9f>\u001b[0m in \u001b[0;36mparse_stock_data\u001b[0;34m(data)\u001b[0m\n\u001b[1;32m      3\u001b[0m     \u001b[0mmarket_cap\u001b[0m \u001b[0;34m=\u001b[0m \u001b[0mdata\u001b[0m\u001b[0;34m.\u001b[0m\u001b[0msplit\u001b[0m\u001b[0;34m(\u001b[0m\u001b[0;34m' $'\u001b[0m\u001b[0;34m)\u001b[0m\u001b[0;34m[\u001b[0m\u001b[0;36m1\u001b[0m\u001b[0;34m]\u001b[0m\u001b[0;34m\u001b[0m\u001b[0;34m\u001b[0m\u001b[0m\n\u001b[1;32m      4\u001b[0m     \u001b[0mmarket_info\u001b[0m \u001b[0;34m=\u001b[0m \u001b[0mdata\u001b[0m\u001b[0;34m.\u001b[0m\u001b[0msplit\u001b[0m\u001b[0;34m(\u001b[0m\u001b[0;34m' $'\u001b[0m\u001b[0;34m)\u001b[0m\u001b[0;34m[\u001b[0m\u001b[0;36m2\u001b[0m\u001b[0;34m]\u001b[0m\u001b[0;34m\u001b[0m\u001b[0;34m\u001b[0m\u001b[0m\n\u001b[0;32m----> 5\u001b[0;31m     \u001b[0mprice_info\u001b[0m \u001b[0;34m=\u001b[0m \u001b[0mdata\u001b[0m\u001b[0;34m.\u001b[0m\u001b[0msplit\u001b[0m\u001b[0;34m(\u001b[0m\u001b[0;34m' $'\u001b[0m\u001b[0;34m)\u001b[0m\u001b[0;34m[\u001b[0m\u001b[0;36m3\u001b[0m\u001b[0;34m]\u001b[0m\u001b[0;34m.\u001b[0m\u001b[0msplit\u001b[0m\u001b[0;34m(\u001b[0m\u001b[0;34m' '\u001b[0m\u001b[0;34m)\u001b[0m\u001b[0;34m\u001b[0m\u001b[0;34m\u001b[0m\u001b[0m\n\u001b[0m\u001b[1;32m      6\u001b[0m     \u001b[0mprice\u001b[0m \u001b[0;34m=\u001b[0m \u001b[0;34mf'${price_info[0]}'\u001b[0m\u001b[0;34m\u001b[0m\u001b[0;34m\u001b[0m\u001b[0m\n\u001b[1;32m      7\u001b[0m     \u001b[0mperformance_today\u001b[0m \u001b[0;34m=\u001b[0m \u001b[0mprice_info\u001b[0m\u001b[0;34m[\u001b[0m\u001b[0;36m1\u001b[0m\u001b[0;34m]\u001b[0m\u001b[0;34m\u001b[0m\u001b[0;34m\u001b[0m\u001b[0m\n",
      "\u001b[0;31mIndexError\u001b[0m: list index out of range"
     ]
    }
   ],
   "source": [
    "for each_stock in all_stocks:\n",
    "    print(parse_stock_data(each_stock))"
   ]
  },
  {
   "cell_type": "code",
   "execution_count": null,
   "metadata": {},
   "outputs": [],
   "source": []
  }
 ],
 "metadata": {
  "kernelspec": {
   "display_name": "Python 3",
   "language": "python",
   "name": "python3"
  },
  "language_info": {
   "codemirror_mode": {
    "name": "ipython",
    "version": 3
   },
   "file_extension": ".py",
   "mimetype": "text/x-python",
   "name": "python",
   "nbconvert_exporter": "python",
   "pygments_lexer": "ipython3",
   "version": "3.8.5"
  }
 },
 "nbformat": 4,
 "nbformat_minor": 4
}
